{
 "cells": [
  {
   "cell_type": "code",
   "execution_count": 24,
   "metadata": {},
   "outputs": [
    {
     "data": {
      "text/plain": [
       "true"
      ]
     },
     "execution_count": 24,
     "metadata": {},
     "output_type": "execute_result"
    }
   ],
   "source": [
    "import java.util.regex.Matcher;\n",
    "import java.util.regex.Pattern;\n",
    "\n",
    "Pattern pattern = Pattern.compile(\"[a-z]+\", Pattern.CASE_INSENSITIVE);\n",
    "Matcher matcher = pattern.matcher(\"request\");\n",
    "return matcher.find();"
   ]
  },
  {
   "cell_type": "code",
   "execution_count": 5,
   "metadata": {},
   "outputs": [
    {
     "name": "stdout",
     "output_type": "stream",
     "text": [
      "MATCH\n",
      "group count = 3\n",
      "event name = request\n",
      "parameters = microservice_response=TRUE, consec_error=3\n",
      "extra =  (microservice_response=TRUE, consec_error=3)\n"
     ]
    },
    {
     "data": {
      "text/plain": [
       "true"
      ]
     },
     "execution_count": 5,
     "metadata": {},
     "output_type": "execute_result"
    }
   ],
   "source": [
    "import java.util.regex.Matcher;\n",
    "import java.util.regex.Pattern;\n",
    "\n",
    "Pattern pattern = Pattern.compile(\"([a-z]+)([ ]*[(](.*)[)])?\", Pattern.CASE_INSENSITIVE);\n",
    "//Matcher matcher = pattern.matcher(\"clock\");\n",
    "Matcher matcher = pattern.matcher(\"request (microservice_response=TRUE, consec_error=3)\");\n",
    "if (matcher.find()){\n",
    "    System.out.println(\"MATCH\");\n",
    "    System.out.println(\"group count = \" + matcher.groupCount());\n",
    "    System.out.println(\"event name = \" + matcher.group(1));\n",
    "    System.out.println(\"parameters = \" + matcher.group(3));\n",
    "    System.out.println(\"extra = \" + matcher.group(2));\n",
    "    return true;\n",
    "} else {\n",
    "    return \"NOT MATCH\";\n",
    "}"
   ]
  },
  {
   "cell_type": "code",
   "execution_count": 5,
   "metadata": {},
   "outputs": [
    {
     "data": {
      "text/plain": [
       "null"
      ]
     },
     "execution_count": 5,
     "metadata": {},
     "output_type": "execute_result"
    }
   ],
   "source": [
    "Class.forName(\"java.lang.Boolean\");"
   ]
  },
  {
   "cell_type": "code",
   "execution_count": 6,
   "metadata": {},
   "outputs": [
    {
     "name": "stdout",
     "output_type": "stream",
     "text": [
      "True true\n",
      "TRUE true\n",
      "tRuE true\n",
      "true true\n"
     ]
    },
    {
     "data": {
      "text/plain": [
       "null"
      ]
     },
     "execution_count": 6,
     "metadata": {},
     "output_type": "execute_result"
    }
   ],
   "source": [
    "System.out.println(\"True \" + String.valueOf(Boolean.parseBoolean(\"True\")));\n",
    "System.out.println(\"TRUE \" + String.valueOf(Boolean.parseBoolean(\"TRUE\")));\n",
    "System.out.println(\"tRuE \" + String.valueOf(Boolean.parseBoolean(\"tRuE\")));\n",
    "System.out.println(\"true \" + String.valueOf(Boolean.parseBoolean(\"true\")));"
   ]
  },
  {
   "cell_type": "code",
   "execution_count": null,
   "metadata": {},
   "outputs": [],
   "source": []
  }
 ],
 "metadata": {
  "kernelspec": {
   "display_name": "Java",
   "language": "java",
   "name": "java"
  },
  "language_info": {
   "codemirror_mode": "text/x-java",
   "file_extension": ".java",
   "mimetype": "",
   "name": "Java",
   "nbconverter_exporter": "",
   "version": "14.0.2"
  }
 },
 "nbformat": 4,
 "nbformat_minor": 4
}
