{
 "cells": [
  {
   "cell_type": "markdown",
   "metadata": {},
   "source": [
    "# PROB 2 Notebook"
   ]
  },
  {
   "cell_type": "code",
   "execution_count": 1,
   "metadata": {},
   "outputs": [
    {
     "data": {
      "text/markdown": [
       "Enter a B expression or predicate to evaluate it. To load a B machine, enter its source code directly, or use `:load` to load an external machine file.\n",
       "\n",
       "You can also use any of the following commands. For more help on a particular command, run `:help commandname`.\n",
       "\n",
       "## Evaluation\n",
       "\n",
       "* `:eval` - Evaluate a formula and display the result.\n",
       "* `:solve` - Solve a predicate with the specified solver.\n",
       "* `:table` - Display an expression as a table.\n",
       "* `:type` - Display the static type of a formula.\n",
       "* `:prettyprint` - Pretty-print a predicate.\n",
       "* `:let` - Evaluate an expression and store it in a local variable.\n",
       "* `:unlet` - Remove a local variable.\n",
       "* `:assert` - Ensure that the predicate is true, and show an error otherwise.\n",
       "\n",
       "## Animation\n",
       "\n",
       "* `::load` - Load a B machine from the given source code.\n",
       "* `:load` - Load a machine from a file.\n",
       "* `:constants` - Set up the current machine's constants.\n",
       "* `:init` - Initialise the current machine with the specified predicate\n",
       "* `:exec` - Execute an operation.\n",
       "* `:browse` - Show information about the current state.\n",
       "* `:trace` - Display all states and executed operations in the current trace.\n",
       "* `:goto` - Go to the state with the specified index in the current trace.\n",
       "* `:find` - Try to find a state for which the given predicate is true (in addition to the machine's invariant).\n",
       "\n",
       "## Visualisation\n",
       "\n",
       "* `:show` - Show the machine's animation function visualisation for the current state.\n",
       "* `:dot` - Execute and show a dot visualisation.\n",
       "\n",
       "## Verification\n",
       "\n",
       "* `:check` - Check the machine's properties, invariant, or assertions in the current state.\n",
       "* `:modelcheck` - Run the ProB model checker on the current model.\n",
       "\n",
       "## Other\n",
       "\n",
       "* `::render` - Render some content with the specified MIME type.\n",
       "* `:bsymb` - Load all bsymb.sty command definitions, so that they can be used in $\\LaTeX$ formulas in Markdown cells.\n",
       "* `:groovy` - Evaluate the given Groovy expression.\n",
       "* `:help` - Display help for a specific command, or general help about the REPL.\n",
       "* `:pref` - View or change the value of one or more preferences.\n",
       "* `:stats` - Show statistics about the state space.\n",
       "* `:time` - Execute the given command and measure how long it takes to execute.\n",
       "* `:version` - Display version info about the ProB 2 Jupyter kernel and its underlying components.\n"
      ],
      "text/plain": [
       "Enter a B expression or predicate to evaluate it. To load a B machine, enter its source code directly, or use :load to load an external machine file.\n",
       "You can also use any of the following commands. For more help on a particular command, run :help commandname.\n",
       "\n",
       "Evaluation:\n",
       ":eval - Evaluate a formula and display the result.\n",
       ":solve - Solve a predicate with the specified solver.\n",
       ":table - Display an expression as a table.\n",
       ":type - Display the static type of a formula.\n",
       ":prettyprint - Pretty-print a predicate.\n",
       ":let - Evaluate an expression and store it in a local variable.\n",
       ":unlet - Remove a local variable.\n",
       ":assert - Ensure that the predicate is true, and show an error otherwise.\n",
       "\n",
       "Animation:\n",
       "::load - Load a B machine from the given source code.\n",
       ":load - Load a machine from a file.\n",
       ":constants - Set up the current machine's constants.\n",
       ":init - Initialise the current machine with the specified predicate\n",
       ":exec - Execute an operation.\n",
       ":browse - Show information about the current state.\n",
       ":trace - Display all states and executed operations in the current trace.\n",
       ":goto - Go to the state with the specified index in the current trace.\n",
       ":find - Try to find a state for which the given predicate is true (in addition to the machine's invariant).\n",
       "\n",
       "Visualisation:\n",
       ":show - Show the machine's animation function visualisation for the current state.\n",
       ":dot - Execute and show a dot visualisation.\n",
       "\n",
       "Verification:\n",
       ":check - Check the machine's properties, invariant, or assertions in the current state.\n",
       ":modelcheck - Run the ProB model checker on the current model.\n",
       "\n",
       "Other:\n",
       "::render - Render some content with the specified MIME type.\n",
       ":bsymb - Load all bsymb.sty command definitions, so that they can be used in $\\LaTeX$ formulas in Markdown cells.\n",
       ":groovy - Evaluate the given Groovy expression.\n",
       ":help - Display help for a specific command, or general help about the REPL.\n",
       ":pref - View or change the value of one or more preferences.\n",
       ":stats - Show statistics about the state space.\n",
       ":time - Execute the given command and measure how long it takes to execute.\n",
       ":version - Display version info about the ProB 2 Jupyter kernel and its underlying components.\n"
      ]
     },
     "execution_count": 1,
     "metadata": {},
     "output_type": "execute_result"
    }
   ],
   "source": [
    ":help"
   ]
  },
  {
   "cell_type": "code",
   "execution_count": 1,
   "metadata": {},
   "outputs": [
    {
     "data": {
      "text/plain": [
       "Loaded machine: m0_circuit_breaker_mch"
      ]
     },
     "execution_count": 1,
     "metadata": {},
     "output_type": "execute_result"
    }
   ],
   "source": [
    ":load svergara_test_generator/eventb2xml/eventb_machines/m0_circuit_breaker_mch.eventb"
   ]
  },
  {
   "cell_type": "code",
   "execution_count": 3,
   "metadata": {},
   "outputs": [
    {
     "data": {
      "text/markdown": [
       "**Explored States:** 0/1  \n",
       "**Transitions:** 0"
      ],
      "text/plain": [
       "Explored States: 0/1\n",
       "Transitions: 0"
      ]
     },
     "execution_count": 3,
     "metadata": {},
     "output_type": "execute_result"
    }
   ],
   "source": [
    ":stats"
   ]
  },
  {
   "cell_type": "code",
   "execution_count": 4,
   "metadata": {},
   "outputs": [
    {
     "data": {
      "text/plain": [
       "Machine: m0_circuit_breaker_mch\n",
       "Sets: CIRCUIT_BREAKER_STATE\n",
       "Constants: AMOUNT_TEST_REQUESTS, THRESHOLD, TIMEOUT_PERIOD\n",
       "Variables: circuit_breaker, consecutive_errors, test_request_to_go, time, timestamp_cb_trips\n",
       "Operations: \n",
       "SETUP_CONSTANTS()"
      ]
     },
     "execution_count": 4,
     "metadata": {},
     "output_type": "execute_result"
    }
   ],
   "source": [
    ":browse"
   ]
  },
  {
   "cell_type": "code",
   "execution_count": 5,
   "metadata": {},
   "outputs": [
    {
     "data": {
      "text/plain": [
       "Machine constants set up using operation 0: $setup_constants()"
      ]
     },
     "execution_count": 5,
     "metadata": {},
     "output_type": "execute_result"
    }
   ],
   "source": [
    ":constants"
   ]
  },
  {
   "cell_type": "code",
   "execution_count": 6,
   "metadata": {},
   "outputs": [
    {
     "data": {
      "text/plain": [
       "Machine initialised using operation 1: $initialise_machine()"
      ]
     },
     "execution_count": 6,
     "metadata": {},
     "output_type": "execute_result"
    }
   ],
   "source": [
    ":init"
   ]
  },
  {
   "cell_type": "code",
   "execution_count": 7,
   "metadata": {},
   "outputs": [
    {
     "data": {
      "text/plain": [
       "Machine: m0_circuit_breaker_mch\n",
       "Sets: CIRCUIT_BREAKER_STATE\n",
       "Constants: AMOUNT_TEST_REQUESTS, THRESHOLD, TIMEOUT_PERIOD\n",
       "Variables: circuit_breaker, consecutive_errors, test_request_to_go, time, timestamp_cb_trips\n",
       "Operations: \n",
       "request(TRUE,CLOSED,0,3,0)\n",
       "request(FALSE,CLOSED,1,3,0)\n",
       "clock(CLOSED)"
      ]
     },
     "execution_count": 7,
     "metadata": {},
     "output_type": "execute_result"
    }
   ],
   "source": [
    ":browse"
   ]
  },
  {
   "cell_type": "code",
   "execution_count": 8,
   "metadata": {},
   "outputs": [
    {
     "data": {
      "text/markdown": [
       "* -1: Root state\n",
       "* 0: `SETUP_CONSTANTS()`\n",
       "* 1: `INITIALISATION()` **(current)**"
      ],
      "text/plain": [
       "-1: Root state\n",
       "0: SETUP_CONSTANTS()\n",
       "1: INITIALISATION() (current)"
      ]
     },
     "execution_count": 8,
     "metadata": {},
     "output_type": "execute_result"
    }
   ],
   "source": [
    ":trace"
   ]
  },
  {
   "cell_type": "code",
   "execution_count": 9,
   "metadata": {},
   "outputs": [
    {
     "data": {
      "text/markdown": [
       "```\n",
       ":exec OPERATION [PREDICATE]\n",
       "```\n",
       "\n",
       "Execute an operation.\n",
       "\n",
       "The predicate is used to select the operation's parameter values. The parameters can be fully specified explicitly (e. g. `:exec op param1 = 123 & param2 = {1, 2}`), or they can be partially constrained (e. g. `:exec op param1 > 100 & card(param2) >= 2`) to let ProB find a valid combination of parameters. If there are multiple valid combinations of parameters that satisfy the predicate, it is undefined which one is selected by ProB.\n",
       "\n",
       "If no predicate is specified, the parameters are not constrained, and ProB will select an arbitrary valid combination of parameters."
      ],
      "text/plain": [
       ":exec OPERATION [PREDICATE]\n",
       "Execute an operation.\n",
       "\n",
       "The predicate is used to select the operation's parameter values. The parameters can be fully specified explicitly (e. g. `:exec op param1 = 123 & param2 = {1, 2}`), or they can be partially constrained (e. g. `:exec op param1 > 100 & card(param2) >= 2`) to let ProB find a valid combination of parameters. If there are multiple valid combinations of parameters that satisfy the predicate, it is undefined which one is selected by ProB.\n",
       "\n",
       "If no predicate is specified, the parameters are not constrained, and ProB will select an arbitrary valid combination of parameters."
      ]
     },
     "execution_count": 9,
     "metadata": {},
     "output_type": "execute_result"
    }
   ],
   "source": [
    ":help exec"
   ]
  },
  {
   "cell_type": "code",
   "execution_count": 10,
   "metadata": {},
   "outputs": [
    {
     "data": {
      "text/plain": [
       "Executed operation: request(FALSE,CLOSED,1,3,0)"
      ]
     },
     "execution_count": 10,
     "metadata": {},
     "output_type": "execute_result"
    }
   ],
   "source": [
    ":exec request microservice_response = FALSE"
   ]
  },
  {
   "cell_type": "code",
   "execution_count": 11,
   "metadata": {},
   "outputs": [
    {
     "data": {
      "text/markdown": [
       "* -1: Root state\n",
       "* 0: `SETUP_CONSTANTS()`\n",
       "* 1: `INITIALISATION()`\n",
       "* 2: `request(FALSE,CLOSED,1,3,0)` **(current)**"
      ],
      "text/plain": [
       "-1: Root state\n",
       "0: SETUP_CONSTANTS()\n",
       "1: INITIALISATION()\n",
       "2: request(FALSE,CLOSED,1,3,0) (current)"
      ]
     },
     "execution_count": 11,
     "metadata": {},
     "output_type": "execute_result"
    }
   ],
   "source": [
    ":trace"
   ]
  },
  {
   "cell_type": "code",
   "execution_count": 12,
   "metadata": {},
   "outputs": [
    {
     "data": {
      "text/plain": [
       "Machine: m0_circuit_breaker_mch\n",
       "Sets: CIRCUIT_BREAKER_STATE\n",
       "Constants: AMOUNT_TEST_REQUESTS, THRESHOLD, TIMEOUT_PERIOD\n",
       "Variables: circuit_breaker, consecutive_errors, test_request_to_go, time, timestamp_cb_trips\n",
       "Operations: \n",
       "request(TRUE,CLOSED,0,3,0)\n",
       "request(FALSE,CLOSED,2,3,0)\n",
       "clock(CLOSED)"
      ]
     },
     "execution_count": 12,
     "metadata": {},
     "output_type": "execute_result"
    }
   ],
   "source": [
    ":browse"
   ]
  },
  {
   "cell_type": "code",
   "execution_count": null,
   "metadata": {},
   "outputs": [],
   "source": []
  }
 ],
 "metadata": {
  "kernelspec": {
   "display_name": "ProB 2",
   "language": "prob",
   "name": "prob2"
  },
  "language_info": {
   "codemirror_mode": "prob2_jupyter_repl",
   "file_extension": ".prob",
   "mimetype": "text/x-prob2-jupyter-repl",
   "name": "prob"
  }
 },
 "nbformat": 4,
 "nbformat_minor": 4
}
