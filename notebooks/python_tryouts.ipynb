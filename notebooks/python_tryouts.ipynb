{
 "cells": [
  {
   "cell_type": "code",
   "execution_count": 31,
   "metadata": {},
   "outputs": [],
   "source": [
    "import re"
   ]
  },
  {
   "cell_type": "code",
   "execution_count": 32,
   "metadata": {},
   "outputs": [
    {
     "data": {
      "text/plain": [
       "'clock({(E1|->FALSE),(E2|->FALSE),(E3|->TRUE),(E4|->FALSE),(E5|->FALSE)});'"
      ]
     },
     "execution_count": 32,
     "metadata": {},
     "output_type": "execute_result"
    }
   ],
   "source": [
    "#line = 'clock ({(E1|->FALSE)});'\n",
    "#line = 'request(TRUE,CLOSED,0,3,0);'\n",
    "line = 'clock({(E1|->FALSE),(E2|->FALSE),(E3|->TRUE),(E4|->FALSE),(E5|->FALSE)});'\n",
    "line"
   ]
  },
  {
   "cell_type": "code",
   "execution_count": 33,
   "metadata": {},
   "outputs": [],
   "source": [
    "match = re.search('(^[a-z,A-Z].*?)\\((.*)\\)', line)"
   ]
  },
  {
   "cell_type": "code",
   "execution_count": 34,
   "metadata": {},
   "outputs": [
    {
     "data": {
      "text/plain": [
       "'clock'"
      ]
     },
     "execution_count": 34,
     "metadata": {},
     "output_type": "execute_result"
    }
   ],
   "source": [
    "operation_name = match.group(1) #operation_name='request'\n",
    "operation_name"
   ]
  },
  {
   "cell_type": "code",
   "execution_count": 37,
   "metadata": {},
   "outputs": [
    {
     "data": {
      "text/plain": [
       "'{(E1|->FALSE),(E2|->FALSE),(E3|->TRUE),(E4|->FALSE),(E5|->FALSE)}'"
      ]
     },
     "execution_count": 37,
     "metadata": {},
     "output_type": "execute_result"
    }
   ],
   "source": [
    "#operation_parameters = match.group(2).split(',') #operation_parameters=['TRUE', 'CLOSED', '0', '3', '0']\n",
    "operation_parameters = match.group(2)\n",
    "operation_parameters"
   ]
  },
  {
   "cell_type": "code",
   "execution_count": 36,
   "metadata": {},
   "outputs": [],
   "source": [
    "def split(s):\n",
    "     parts = []\n",
    "     bracket_level = 0\n",
    "     current = []\n",
    "     # trick to remove special-case of trailing chars\n",
    "     for c in (s + \",\"):\n",
    "         if c == \",\" and bracket_level == 0:\n",
    "             parts.append(\"\".join(current))\n",
    "             current = []\n",
    "         else:\n",
    "             if c == \"{\":\n",
    "                 bracket_level += 1\n",
    "             elif c == \"}\":\n",
    "                 bracket_level -= 1\n",
    "             current.append(c)\n",
    "     return parts"
   ]
  },
  {
   "cell_type": "code",
   "execution_count": 38,
   "metadata": {},
   "outputs": [
    {
     "data": {
      "text/plain": [
       "['{(E1|->FALSE),(E2|->FALSE),(E3|->TRUE),(E4|->FALSE),(E5|->FALSE)}']"
      ]
     },
     "execution_count": 38,
     "metadata": {},
     "output_type": "execute_result"
    }
   ],
   "source": [
    "split(operation_parameters)"
   ]
  },
  {
   "cell_type": "code",
   "execution_count": 39,
   "metadata": {},
   "outputs": [
    {
     "data": {
      "text/plain": [
       "['TRUE', 'CLOSED', '0', '3', '0']"
      ]
     },
     "execution_count": 39,
     "metadata": {},
     "output_type": "execute_result"
    }
   ],
   "source": [
    "split('TRUE,CLOSED,0,3,0')"
   ]
  },
  {
   "cell_type": "code",
   "execution_count": null,
   "metadata": {},
   "outputs": [],
   "source": []
  }
 ],
 "metadata": {
  "kernelspec": {
   "display_name": "Python 3",
   "language": "python",
   "name": "python3"
  },
  "language_info": {
   "codemirror_mode": {
    "name": "ipython",
    "version": 3
   },
   "file_extension": ".py",
   "mimetype": "text/x-python",
   "name": "python",
   "nbconvert_exporter": "python",
   "pygments_lexer": "ipython3",
   "version": "3.7.2"
  }
 },
 "nbformat": 4,
 "nbformat_minor": 4
}
