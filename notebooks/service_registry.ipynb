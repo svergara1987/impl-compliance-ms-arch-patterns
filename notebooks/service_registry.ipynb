{
 "cells": [
  {
   "cell_type": "markdown",
   "id": "855d638d-16e1-4613-9412-eeb45d12f480",
   "metadata": {},
   "source": [
    "# Service Registry"
   ]
  },
  {
   "cell_type": "code",
   "execution_count": null,
   "id": "0a3370ed-5fd5-4cb4-b283-d2fd6e88d13a",
   "metadata": {},
   "outputs": [],
   "source": []
  }
 ],
 "metadata": {
  "kernelspec": {
   "display_name": "Z shell",
   "language": "zsh",
   "name": "zsh"
  },
  "language_info": {
   "name": ""
  }
 },
 "nbformat": 4,
 "nbformat_minor": 5
}
