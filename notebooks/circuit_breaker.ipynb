{
 "cells": [
  {
   "cell_type": "markdown",
   "id": "91ba5f8c-93fb-4cce-a015-553af03b6dbb",
   "metadata": {},
   "source": [
    "# Circuit Breaker"
   ]
  },
  {
   "cell_type": "code",
   "execution_count": null,
   "id": "9274aafe-3f83-4111-babf-b901185121cb",
   "metadata": {},
   "outputs": [],
   "source": []
  }
 ],
 "metadata": {
  "kernelspec": {
   "display_name": "Z shell",
   "language": "zsh",
   "name": "zsh"
  },
  "language_info": {
   "name": ""
  }
 },
 "nbformat": 4,
 "nbformat_minor": 5
}
